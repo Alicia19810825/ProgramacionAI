{
 "cells": [
  {
   "cell_type": "code",
   "execution_count": 8,
   "id": "9d4f25fc-1516-4572-8999-fea7b2f09c7a",
   "metadata": {},
   "outputs": [
    {
     "name": "stdin",
     "output_type": "stream",
     "text": [
      "Por favor, introduce una lista de numeros positivos y negativos separados por comas:  1 2 3 45\n"
     ]
    },
    {
     "name": "stdout",
     "output_type": "stream",
     "text": [
      "Negativos: []\n",
      "Positivos: [1, 2, 3, 45]\n"
     ]
    }
   ],
   "source": [
    "def separar_y_ordenar(lista):\n",
    "    negativos = []\n",
    "    positivos = []\n",
    "\n",
    "    # Eliminar espacios en blanco adicionales\n",
    "    lista = lista.replace(\" \", \",\")  # Quita todos los espacios\n",
    "    \n",
    "    # Verificar si la entrada contiene una coma para separar los números\n",
    "    if \",\" in lista:\n",
    "        # Convertir la entrada en una lista de enteros\n",
    "        array = [int(x) for x in lista.split(\",\") if x.strip()]  # Filtrar elementos vacíos\n",
    "\n",
    "        # Separar los números en positivos y negativos\n",
    "        for elemento in array:\n",
    "            if elemento >= 0:\n",
    "                positivos.append(elemento)\n",
    "            else:\n",
    "                negativos.append(elemento)\n",
    "        \n",
    "        # Imprimir los resultados\n",
    "        print(\"Negativos:\", negativos)\n",
    "        print(\"Positivos:\", positivos)\n",
    "\n",
    "        return False  # Retorna False para salir del bucle\n",
    "    else:\n",
    "        print(\"Error: Lista de numeros introducida sin separacion de comas.\")\n",
    "        return True  # Mantener `True` para seguir pidiendo una entrada válida\n",
    "\n",
    "\n",
    "# Inicializar la condición\n",
    "condicion = True\n",
    "\n",
    "# Bucle que continúa hasta que `condicion` sea False\n",
    "while condicion:\n",
    "    numeros = input(\"Por favor, introduce una lista de numeros positivos y negativos separados por comas: \")\n",
    "    condicion = separar_y_ordenar(numeros)"
   ]
  },
  {
   "cell_type": "code",
   "execution_count": null,
   "id": "5920013b-d119-479c-8eb5-14cab84fc3e3",
   "metadata": {},
   "outputs": [],
   "source": []
  },
  {
   "cell_type": "code",
   "execution_count": null,
   "id": "9ff6f335-5900-450d-bff3-aada94ca0c16",
   "metadata": {},
   "outputs": [],
   "source": []
  }
 ],
 "metadata": {
  "kernelspec": {
   "display_name": "Python 3 (ipykernel)",
   "language": "python",
   "name": "python3"
  },
  "language_info": {
   "codemirror_mode": {
    "name": "ipython",
    "version": 3
   },
   "file_extension": ".py",
   "mimetype": "text/x-python",
   "name": "python",
   "nbconvert_exporter": "python",
   "pygments_lexer": "ipython3",
   "version": "3.12.4"
  }
 },
 "nbformat": 4,
 "nbformat_minor": 5
}
