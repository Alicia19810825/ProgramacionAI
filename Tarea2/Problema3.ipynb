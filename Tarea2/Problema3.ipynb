{
 "cells": [
  {
   "cell_type": "code",
   "execution_count": null,
   "id": "62771a3a-830e-464b-b6d2-96c23a34a0fc",
   "metadata": {},
   "outputs": [],
   "source": [
    "# Función para crear un conjunto de números enteros a partir de una entrada de usuario\n",
    "def crear_conjunto():\n",
    "    entrada = input(\"Introduce numeros enteros separados por comas: \")\n",
    "    conjunto = {int(x.strip()) for x in entrada.split(\",\") if x.strip()}\n",
    "    return conjunto\n",
    "\n",
    "# Crear los dos conjuntos\n",
    "print(\"Crear el primer conjunto:\")\n",
    "conjunto1 = crear_conjunto()\n",
    "\n",
    "print(\"Crear el segundo conjunto:\")\n",
    "conjunto2 = crear_conjunto()\n",
    "\n",
    "# Calcular la intersección, la unión y la diferencia simétrica\n",
    "interseccion = conjunto1 & conjunto2\n",
    "union = conjunto1 | conjunto2\n",
    "diferencia_simetrica = conjunto1 ^ conjunto2\n",
    "\n",
    "# Mostrar los resultados\n",
    "print(\"\\nResultados:\")\n",
    "print(f\"Interseccion (elementos comunes): {interseccion}\")\n",
    "print(f\"Union (todos los elementos sin duplicados): {union}\")\n",
    "print(f\"Diferencia simetrica (elementos que estan en uno u otro, pero no en ambos): {diferencia_simetrica}\")"
   ]
  }
 ],
 "metadata": {
  "kernelspec": {
   "display_name": "Python 3 (ipykernel)",
   "language": "python",
   "name": "python3"
  },
  "language_info": {
   "codemirror_mode": {
    "name": "ipython",
    "version": 3
   },
   "file_extension": ".py",
   "mimetype": "text/x-python",
   "name": "python",
   "nbconvert_exporter": "python",
   "pygments_lexer": "ipython3",
   "version": "3.12.4"
  }
 },
 "nbformat": 4,
 "nbformat_minor": 5
}
