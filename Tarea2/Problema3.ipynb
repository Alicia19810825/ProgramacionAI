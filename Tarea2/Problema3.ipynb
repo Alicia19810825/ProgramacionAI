{
 "cells": [
  {
   "cell_type": "code",
   "execution_count": 9,
   "id": "62771a3a-830e-464b-b6d2-96c23a34a0fc",
   "metadata": {},
   "outputs": [
    {
     "name": "stdout",
     "output_type": "stream",
     "text": [
      "Crear el primer conjunto:\n"
     ]
    },
    {
     "name": "stdin",
     "output_type": "stream",
     "text": [
      "Introduce numeros enteros separados por comas:  1,15,-6,18,-369,5,7,0,-32\n"
     ]
    },
    {
     "name": "stdout",
     "output_type": "stream",
     "text": [
      "Crear el segundo conjunto:\n"
     ]
    },
    {
     "name": "stdin",
     "output_type": "stream",
     "text": [
      "Introduce numeros enteros separados por comas:  -6,5,7,0,154,25,111,-548,-65\n"
     ]
    },
    {
     "name": "stdout",
     "output_type": "stream",
     "text": [
      "\n",
      "Resultados:\n",
      "Interseccion (elementos comunes): [-6, 0, 5, 7]\n",
      "Union (todos los elementos sin duplicados): [-548, -369, -65, -32, -6, 0, 1, 5, 7, 15, 18, 25, 111, 154]\n",
      "Diferencia simetrica (elementos que estan en uno u otro, pero no en ambos): [-548, -369, -65, -32, 1, 15, 18, 25, 111, 154]\n"
     ]
    }
   ],
   "source": [
    "# Función para crear un conjunto de números enteros a partir de una entrada de usuario\n",
    "def crear_conjunto():\n",
    "    entrada = input(\"Introduce numeros enteros separados por comas: \")\n",
    "    conjunto = {int(x.strip()) for x in entrada.split(\",\") if x.strip()}\n",
    "    return conjunto\n",
    "\n",
    "# Crear los dos conjuntos\n",
    "print(\"Crear el primer conjunto:\")\n",
    "conjunto1 = crear_conjunto()\n",
    "\n",
    "print(\"Crear el segundo conjunto:\")\n",
    "conjunto2 = crear_conjunto()\n",
    "\n",
    "# Calcular la intersección, la unión y la diferencia simétrica\n",
    "interseccion = conjunto1 & conjunto2\n",
    "union = conjunto1 | conjunto2\n",
    "diferencia_simetrica = conjunto1 ^ conjunto2\n",
    "\n",
    "# Mostrar los resultados\n",
    "print(\"\\nResultados:\")\n",
    "print(f\"Interseccion (elementos comunes): {sorted(interseccion)}\")\n",
    "print(f\"Union (todos los elementos sin duplicados): {sorted(union)}\")\n",
    "print(f\"Diferencia simetrica (elementos que estan en uno u otro, pero no en ambos): {sorted(diferencia_simetrica)}\")"
   ]
  },
  {
   "cell_type": "code",
   "execution_count": null,
   "id": "ce31b292-c7c4-4a53-b9c6-498067c8935d",
   "metadata": {},
   "outputs": [],
   "source": []
  }
 ],
 "metadata": {
  "kernelspec": {
   "display_name": "Python 3 (ipykernel)",
   "language": "python",
   "name": "python3"
  },
  "language_info": {
   "codemirror_mode": {
    "name": "ipython",
    "version": 3
   },
   "file_extension": ".py",
   "mimetype": "text/x-python",
   "name": "python",
   "nbconvert_exporter": "python",
   "pygments_lexer": "ipython3",
   "version": "3.12.4"
  }
 },
 "nbformat": 4,
 "nbformat_minor": 5
}
