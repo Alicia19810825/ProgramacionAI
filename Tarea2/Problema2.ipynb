{
 "cells": [
  {
   "cell_type": "code",
   "execution_count": 10,
   "id": "0a94c209-6b85-41f0-b6a1-af21d3001b4a",
   "metadata": {},
   "outputs": [
    {
     "name": "stdin",
     "output_type": "stream",
     "text": [
      "Por favor, introduzca un texto o frase:  Accede a la página web de GitHub y sigue los pasos para registrarte y crearte una cuenta. Cuando se te pida que especifiques si eres alumno o profesor, pulsa en la opción que aparece en la parte inferior de la pantalla \"skip personaliza on\". Tras concluir el proceso de registro, crea tu primer repositorio, incluyendo, de momento, un archivo pdf en el que añadas, una breve explicación de cómo lo has hecho.\n"
     ]
    },
    {
     "name": "stdout",
     "output_type": "stream",
     "text": [
      "Frecuencia de cada palabra:\n",
      "'a': 1\n",
      "'accede': 1\n",
      "'alumno': 1\n",
      "'aparece': 1\n",
      "'archivo': 1\n",
      "'añadas': 1\n",
      "'breve': 1\n",
      "'concluir': 1\n",
      "'crea': 1\n",
      "'crearte': 1\n",
      "'cuando': 1\n",
      "'cuenta': 1\n",
      "'cómo': 1\n",
      "'de': 5\n",
      "'el': 2\n",
      "'en': 3\n",
      "'eres': 1\n",
      "'especifiques': 1\n",
      "'explicación': 1\n",
      "'github': 1\n",
      "'has': 1\n",
      "'hecho': 1\n",
      "'incluyendo': 1\n",
      "'inferior': 1\n",
      "'la': 4\n",
      "'lo': 1\n",
      "'los': 1\n",
      "'momento': 1\n",
      "'o': 1\n",
      "'on': 1\n",
      "'opción': 1\n",
      "'pantalla': 1\n",
      "'para': 1\n",
      "'parte': 1\n",
      "'pasos': 1\n",
      "'pdf': 1\n",
      "'personaliza': 1\n",
      "'pida': 1\n",
      "'primer': 1\n",
      "'proceso': 1\n",
      "'profesor': 1\n",
      "'pulsa': 1\n",
      "'página': 1\n",
      "'que': 3\n",
      "'registrarte': 1\n",
      "'registro': 1\n",
      "'repositorio': 1\n",
      "'se': 1\n",
      "'si': 1\n",
      "'sigue': 1\n",
      "'skip': 1\n",
      "'te': 1\n",
      "'tras': 1\n",
      "'tu': 1\n",
      "'un': 1\n",
      "'una': 2\n",
      "'web': 1\n",
      "'y': 2\n"
     ]
    }
   ],
   "source": [
    "\n",
    "import string\n",
    "import re\n",
    "\n",
    "# Pedir al usuario que introduzca un texto\n",
    "texto = input(\"Por favor, introduzca un texto o frase: \")\n",
    "\n",
    "# Definir el patrón de puntuación que queremos eliminar\n",
    "patronPuntuacion = f'[{re.escape(string.punctuation)}]'\n",
    "\n",
    "# Eliminar puntuación y convertir el texto a minúsculas\n",
    "textoSinPuntuacion = re.sub(patronPuntuacion, \"\", texto).lower()\n",
    "\n",
    "# Dividir el texto en palabras\n",
    "palabras = textoSinPuntuacion.split()\n",
    "\n",
    "# Crear un diccionario para almacenar la frecuencia de cada palabra\n",
    "frecuencia_palabras = {}\n",
    "\n",
    "# Contar las palabras\n",
    "for palabra in palabras:\n",
    "    if palabra in frecuencia_palabras:\n",
    "        frecuencia_palabras[palabra] += 1\n",
    "    else:\n",
    "        frecuencia_palabras[palabra] = 1\n",
    "\n",
    "# Imprimir el diccionario de frecuencia ordenado por palabra\n",
    "print(\"Frecuencia de cada palabra:\")\n",
    "for palabra, frecuencia in sorted(frecuencia_palabras.items()):\n",
    "    print(f\"'{palabra}': {frecuencia}\")"
   ]
  },
  {
   "cell_type": "code",
   "execution_count": null,
   "id": "92a4ffce-6211-40af-a645-763b036b6370",
   "metadata": {},
   "outputs": [],
   "source": [
    "Accede a la página web de GitHub y sigue los pasos para registrarte y crearte una cuenta. Cuando se te pida que especifiques si eres alumno o profesor, pulsa en la opción que aparece en la parte inferior de la pantalla \"skip personaliza on\". Tras concluir el proceso de registro, crea tu primer repositorio, incluyendo, de momento, un archivo pdf en el que añadas, una breve explicación de cómo lo has hecho.\n"
   ]
  }
 ],
 "metadata": {
  "kernelspec": {
   "display_name": "Python 3 (ipykernel)",
   "language": "python",
   "name": "python3"
  },
  "language_info": {
   "codemirror_mode": {
    "name": "ipython",
    "version": 3
   },
   "file_extension": ".py",
   "mimetype": "text/x-python",
   "name": "python",
   "nbconvert_exporter": "python",
   "pygments_lexer": "ipython3",
   "version": "3.12.4"
  }
 },
 "nbformat": 4,
 "nbformat_minor": 5
}
