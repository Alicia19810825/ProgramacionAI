{
 "cells": [
  {
   "cell_type": "code",
   "execution_count": 10,
   "id": "9d4f25fc-1516-4572-8999-fea7b2f09c7a",
   "metadata": {},
   "outputs": [
    {
     "name": "stdout",
     "output_type": "stream",
     "text": [
      "([-132, -15, -3], [0, 1, 7, 56, 110])\n"
     ]
    }
   ],
   "source": [
    "def separar_y_ordenar(lista):\n",
    "    negativos = []\n",
    "    positivos = []\n",
    "\n",
    "    # Si la entrada es una lista de enteros, úsala tal cual. Si es una cadena, divídela y conviértela a enteros.\n",
    "    if isinstance(lista, str):\n",
    "        array = [int(x) for x in lista.split(\",\") if x.strip()]  # Filtrar elementos vacíos y convertir a enteros\n",
    "    else:\n",
    "        array = lista  # Si ya es una lista de enteros, úsala directamente\n",
    "\n",
    "    # Separar los números en positivos y negativos\n",
    "    for elemento in array:\n",
    "        if elemento >= 0:\n",
    "            positivos.append(elemento)\n",
    "        else:\n",
    "            negativos.append(elemento)\n",
    "    \n",
    "    return sorted(negativos), sorted(positivos)\n",
    "\n",
    "\n",
    "# Usar una lista de enteros directamente\n",
    "numeros = [1, -15, 7, -132, 0, 56, 110, -3]\n",
    "print(separar_y_ordenar(numeros))"
   ]
  },
  {
   "cell_type": "code",
   "execution_count": 12,
   "id": "5920013b-d119-479c-8eb5-14cab84fc3e3",
   "metadata": {},
   "outputs": [
    {
     "name": "stdout",
     "output_type": "stream",
     "text": [
      "([-132, -15, -3], [0, 1, 7, 56, 110])\n"
     ]
    }
   ],
   "source": [
    "def separar_y_ordenar(lista):\n",
    "    negativos = []\n",
    "    positivos = []\n",
    "\n",
    "    # Si la entrada es una lista de enteros, úsala tal cual. Si es una cadena, divídela y conviértela a enteros.\n",
    "    if isinstance(lista, str):\n",
    "        array = [int(x) for x in lista.split(\",\") if x.strip()]  # Filtrar elementos vacíos y convertir a enteros\n",
    "    else:\n",
    "        array = lista  # Si ya es una lista de enteros, úsala directamente\n",
    "\n",
    "    # Separar los números en positivos y negativos\n",
    "    for elemento in array:\n",
    "        if elemento >= 0:\n",
    "            positivos.append(elemento)\n",
    "        else:\n",
    "            negativos.append(elemento)\n",
    "    \n",
    "    return sorted(negativos), sorted(positivos)\n",
    "\n",
    "\n",
    "# Usar una lista de enteros directamente\n",
    "numeros = [1, -15, 7, -132, 0, 56, 110, -3]\n",
    "print(separar_y_ordenar(numeros))\n"
   ]
  },
  {
   "cell_type": "code",
   "execution_count": null,
   "id": "9ff6f335-5900-450d-bff3-aada94ca0c16",
   "metadata": {},
   "outputs": [],
   "source": [
    "def separar_y_ordenar(lista):\n",
    "    negativos = []\n",
    "    positivos = []\n",
    "\n",
    "    # Si la entrada es una lista de enteros, úsala tal cual. Si es una cadena, divídela y conviértela a enteros.\n",
    "    if isinstance(lista, str):\n",
    "        array = [int(x) for x in lista.split(\",\") if x.strip()]  # Filtrar elementos vacíos y convertir a enteros\n",
    "    else:\n",
    "        array = lista  # Si ya es una lista de enteros, úsala directamente\n",
    "\n",
    "    # Separar los números en positivos y negativos\n",
    "    for elemento in array:\n",
    "        if elemento >= 0:\n",
    "            positivos.append(elemento)\n",
    "        else:\n",
    "            negativos.append(elemento)\n",
    "    \n",
    "    return negativos, positivo)\n",
    "\n",
    "\n",
    "# Usar una lista de enteros directamente\n",
    "numeros = [1, -15, 7, -132, 0, 56, 110, -3]\n",
    "print(separar_y_ordenar(numeros))"
   ]
  },
  {
   "cell_type": "code",
   "execution_count": null,
   "id": "e062c9fb-153c-4e43-82dc-da6404048211",
   "metadata": {},
   "outputs": [],
   "source": []
  },
  {
   "cell_type": "code",
   "execution_count": 16,
   "id": "ac9015ea-945c-46d7-bb53-b8acd0bbc4b1",
   "metadata": {},
   "outputs": [
    {
     "ename": "SyntaxError",
     "evalue": "unmatched ')' (3216319762.py, line 18)",
     "output_type": "error",
     "traceback": [
      "\u001b[1;36m  Cell \u001b[1;32mIn[16], line 18\u001b[1;36m\u001b[0m\n\u001b[1;33m    return negativos, positivo)\u001b[0m\n\u001b[1;37m                              ^\u001b[0m\n\u001b[1;31mSyntaxError\u001b[0m\u001b[1;31m:\u001b[0m unmatched ')'\n"
     ]
    }
   ],
   "source": [
    "def separar_y_ordenar(lista):\n",
    "    negativos = []\n",
    "    positivos = []\n",
    "\n",
    "    # Si la entrada es una lista de enteros, úsala tal cual. Si es una cadena, divídela y conviértela a enteros.\n",
    "    if isinstance(lista, str):\n",
    "        array = [int(x) for x in lista.split(\",\") if x.strip()]  # Filtrar elementos vacíos y convertir a enteros\n",
    "    else:\n",
    "        array = lista  # Si ya es una lista de enteros, úsala directamente\n",
    "\n",
    "    # Separar los números en positivos y negativos\n",
    "    for elemento in array:\n",
    "        if elemento >= 0:\n",
    "            positivos.append(elemento)\n",
    "        else:\n",
    "            negativos.append(elemento)\n",
    "    \n",
    "    return negativos, positivo\n",
    "\n",
    "\n",
    "# Usar una lista de enteros directamente\n",
    "numeros = [1, -15, 7, -132, 0, 56, 110, -3]\n",
    "print(separar_y_ordenar(numeros))"
   ]
  },
  {
   "cell_type": "code",
   "execution_count": 22,
   "id": "3e9d894b-45d2-4776-b92a-b64691fd301c",
   "metadata": {},
   "outputs": [
    {
     "name": "stdout",
     "output_type": "stream",
     "text": [
      "([-132, -15, -3], [0, 1, 7, 56, 110])\n"
     ]
    }
   ],
   "source": [
    "def separar_y_ordenar(lista):\n",
    "    negativos = []\n",
    "    positivos = []\n",
    "\n",
    "    # Si la entrada es una lista de enteros, úsala tal cual. Si es una cadena, divídela y conviértela a enteros.\n",
    "    if isinstance(lista, str):\n",
    "        array = [int(x) for x in lista.split(\",\") if x.strip()]  # Filtrar elementos vacíos y convertir a enteros\n",
    "    else:\n",
    "        array = lista  # Si ya es una lista de enteros, úsala directamente\n",
    "\n",
    "    # Separar los números en positivos y negativos\n",
    "    for elemento in array:\n",
    "        if elemento >= 0:\n",
    "            positivos.append(elemento)\n",
    "        else:\n",
    "            negativos.append(elemento)\n",
    "    \n",
    "    return sorted(negativos), sorted(positivos)\n",
    "\n",
    "\n",
    "# Usar una lista de enteros directamente\n",
    "numeros = [1, -15, 7, -132, 0, 56, 110, -3]\n",
    "print(separar_y_ordenar(numeros))"
   ]
  },
  {
   "cell_type": "code",
   "execution_count": null,
   "id": "e46c7b5d-9177-4c09-9f21-5120e1094c53",
   "metadata": {},
   "outputs": [],
   "source": []
  }
 ],
 "metadata": {
  "kernelspec": {
   "display_name": "Python 3 (ipykernel)",
   "language": "python",
   "name": "python3"
  },
  "language_info": {
   "codemirror_mode": {
    "name": "ipython",
    "version": 3
   },
   "file_extension": ".py",
   "mimetype": "text/x-python",
   "name": "python",
   "nbconvert_exporter": "python",
   "pygments_lexer": "ipython3",
   "version": "3.12.4"
  }
 },
 "nbformat": 4,
 "nbformat_minor": 5
}
