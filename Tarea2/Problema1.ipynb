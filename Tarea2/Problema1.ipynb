{
 "cells": [
  {
   "cell_type": "code",
   "execution_count": 4,
   "id": "9d4f25fc-1516-4572-8999-fea7b2f09c7a",
   "metadata": {},
   "outputs": [
    {
     "name": "stdout",
     "output_type": "stream",
     "text": [
      "([-15, -132, -3], [1, 7, 0, 56, 110])\n"
     ]
    }
   ],
   "source": [
    "def separar_y_ordenar(lista):\n",
    "    negativos = []\n",
    "    positivos = []\n",
    "\n",
    "    # Si la entrada es una lista de enteros, úsala tal cual. Si es una cadena, divídela y conviértela a enteros.\n",
    "    if isinstance(lista, str):\n",
    "        array = [int(x) for x in lista.split(\",\") if x.strip()]  # Filtrar elementos vacíos y convertir a enteros\n",
    "    else:\n",
    "        array = lista  # Si ya es una lista de enteros, úsala directamente\n",
    "\n",
    "    # Separar los números en positivos y negativos\n",
    "    for elemento in array:\n",
    "        if elemento >= 0:\n",
    "            positivos.append(elemento)\n",
    "        else:\n",
    "            negativos.append(elemento)\n",
    "    \n",
    "    return negativos, positivos\n",
    "\n",
    "\n",
    "# Usar una lista de enteros directamente\n",
    "numeros = [1, -15, 7, -132, 0, 56, 110, -3]\n",
    "print(separar_y_ordenar(numeros))"
   ]
  },
  {
   "cell_type": "code",
   "execution_count": null,
   "id": "5920013b-d119-479c-8eb5-14cab84fc3e3",
   "metadata": {},
   "outputs": [],
   "source": []
  },
  {
   "cell_type": "code",
   "execution_count": null,
   "id": "9ff6f335-5900-450d-bff3-aada94ca0c16",
   "metadata": {},
   "outputs": [],
   "source": []
  }
 ],
 "metadata": {
  "kernelspec": {
   "display_name": "Python 3 (ipykernel)",
   "language": "python",
   "name": "python3"
  },
  "language_info": {
   "codemirror_mode": {
    "name": "ipython",
    "version": 3
   },
   "file_extension": ".py",
   "mimetype": "text/x-python",
   "name": "python",
   "nbconvert_exporter": "python",
   "pygments_lexer": "ipython3",
   "version": "3.12.4"
  }
 },
 "nbformat": 4,
 "nbformat_minor": 5
}
